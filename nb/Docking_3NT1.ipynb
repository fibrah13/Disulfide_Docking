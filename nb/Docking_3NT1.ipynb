{
 "cells": [
  {
   "cell_type": "markdown",
   "metadata": {},
   "source": [
    "#Disulfide Docking.\n",
    "###This notebook contains the script which docks a receptor ontu a larger disulfide ligand such as GSSG or Cystine. The example used here is the receptor 3NT1 docked onto the cystine ligand. \n",
    "\n",
    "###The centers are specified and could be changed so that the receptor is only run through those particular places to find where the best energy is. In order to get better results, the exhaustiveness and the number of binding configurations can be increased. However, for faster results it is better to use smaller numbers.\n",
    "\n",
    "#### The script in this notebook should work on any computer so far as the rootdir is changed to match the location of the data on the particular computer being used."
   ]
  },
  {
   "cell_type": "code",
   "execution_count": 2,
   "metadata": {
    "collapsed": false
   },
   "outputs": [],
   "source": [
    "use Modern::Perl;\n",
    "use HackaMol;\n",
    "use HackaMol::X::Vina;\n",
    "use Math::Vector::Real;"
   ]
  },
  {
   "cell_type": "code",
   "execution_count": 5,
   "metadata": {
    "collapsed": false
   },
   "outputs": [
    {
     "data": {
      "text/plain": [
       "Score:   -5.9\n",
       "Score:   -5.8\n",
       "Score:   -5.7\n"
      ]
     },
     "execution_count": 5,
     "metadata": {},
     "output_type": "execute_result"
    },
    {
     "name": "stderr",
     "output_type": "stream",
     "text": [
      "1\n"
     ]
    },
    {
     "ename": "Warning",
     "evalue": "overwrite lig_out.pdb at reply input line 8.\n\noverwrite receptor.pdb at reply input line 36.\n",
     "output_type": "error",
     "traceback": [
      "overwrite lig_out.pdb at reply input line 8.\n\noverwrite receptor.pdb at reply input line 36.\n"
     ]
    }
   ],
   "source": [
    "my $rootdir = '/Users/chem_student/Fadilahs_Space/Disulfide_Docking/data/';\n",
    "\n",
    "my $receptor = $rootdir . \"receptors/pdbqts/3NT1.pdbqt\";\n",
    "my $ligand   = $rootdir . \"ligands/pdbqts/cystine_90.pdbqt\",\n",
    "\n",
    "my $rmol     = HackaMol -> new( hush_read=>1 ) -> read_file_mol( $receptor );\n",
    "my $lmol     = HackaMol -> new( hush_read=>1 ) -> read_file_mol( $ligand );\n",
    "my $fh = $lmol->print_pdb(\"lig_out.pdb\");\n",
    " \n",
    "my @centers = ( \n",
    "                V( -53.0534910516002, -30.3815186260294, -29.8956292147067 ),\n",
    ");\n",
    " \n",
    "foreach my $center ( @centers ) {\n",
    " \n",
    "    my $vina = HackaMol::X::Vina -> new(\n",
    "        receptor       => $receptor,\n",
    "        ligand         => $ligand,\n",
    "        center         => $center,\n",
    "        size           => V( 20, 20, 20 ),\n",
    "        cpu            => 4,\n",
    "        exhaustiveness => 12,\n",
    "        exe            => '~/perl5/apps/vina',\n",
    "        scratch        => 'tmp',\n",
    "    );\n",
    " \n",
    "    my $mol = $vina->dock_mol(3); # fill mol with 3 binding configurations\n",
    " \n",
    "    printf (\"Score: %6.1f\\n\", $mol->get_score($_) ) foreach (0 .. $mol->tmax); \n",
    " \n",
    "    $mol->print_pdb_ts([0 .. $mol->tmax], $fh); \n",
    " \n",
    "  }\n",
    " \n",
    "  $_->segid(\"3nt1\") foreach $rmol->all_atoms; #for vmd rendering cartoons.. etc\n",
    "  $rmol->print_pdb(\"receptor.pdb\"); 1;"
   ]
  },
  {
   "cell_type": "markdown",
   "metadata": {},
   "source": [
    "### Running this script converts the pdbqt files to pdbs.\n",
    "\n",
    "### After running the script, a lig_out.pdb file and a receptor.pdb file is created and this two can be simultaneously visualized on VMD so as to see the different regions where the receptor was best docked onto the ligand."
   ]
  }
 ],
 "metadata": {
  "kernelspec": {
   "display_name": "IPerl 0.005",
   "language": "perl",
   "name": "iperl"
  },
  "language_info": {
   "file_extension": ".pl",
   "mimetype": "text/x-perl",
   "name": "perl",
   "version": "5.20.1"
  }
 },
 "nbformat": 4,
 "nbformat_minor": 0
}
